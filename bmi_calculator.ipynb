{
 "cells": [
  {
   "cell_type": "markdown",
   "id": "31e21f52",
   "metadata": {},
   "source": [
    "# BMI CALCULATOR"
   ]
  },
  {
   "cell_type": "code",
   "execution_count": 1,
   "id": "6622a045",
   "metadata": {},
   "outputs": [
    {
     "name": "stdout",
     "output_type": "stream",
     "text": [
      "Enter your height in cm:170\n",
      "Enter your weight in kg40\n",
      "Your BMI is 13.84083044982699\n",
      "You are severly underweight\n"
     ]
    }
   ],
   "source": [
    "height=float(input(\"Enter your height in cm:\"))\n",
    "weight=float(input(\"Enter your weight in kg\"))\n",
    "height=height/100\n",
    "bmi=weight/(height**2)\n",
    "print(\"Your BMI is\", bmi)\n",
    "if bmi>0:\n",
    "    if bmi<=16:\n",
    "        print(\"You are severly underweight\")\n",
    "    elif bmi<=18.5:\n",
    "        print(\"You are underweight\")\n",
    "    elif bmi<=25:\n",
    "        print(\"You are healthy\")\n",
    "    elif bmi<=30:\n",
    "        print(\"You are overweight\")\n",
    "    else:\n",
    "        print(\"You are severly overweight\")\n",
    "else:\n",
    "    pring(\"Enter valid details\")"
   ]
  },
  {
   "cell_type": "code",
   "execution_count": null,
   "id": "63de72c7",
   "metadata": {},
   "outputs": [],
   "source": []
  }
 ],
 "metadata": {
  "kernelspec": {
   "display_name": "Python 3 (ipykernel)",
   "language": "python",
   "name": "python3"
  },
  "language_info": {
   "codemirror_mode": {
    "name": "ipython",
    "version": 3
   },
   "file_extension": ".py",
   "mimetype": "text/x-python",
   "name": "python",
   "nbconvert_exporter": "python",
   "pygments_lexer": "ipython3",
   "version": "3.9.7"
  }
 },
 "nbformat": 4,
 "nbformat_minor": 5
}
